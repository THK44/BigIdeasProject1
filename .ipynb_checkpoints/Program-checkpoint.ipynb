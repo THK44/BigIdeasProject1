{
 "cells": [
  {
   "cell_type": "code",
   "execution_count": 1,
   "metadata": {},
   "outputs": [
    {
     "name": "stdin",
     "output_type": "stream",
     "text": [
      "Insert your name:  Jesus\n",
      "Insert your age:  32\n"
     ]
    },
    {
     "name": "stdout",
     "output_type": "stream",
     "text": [
      "Hello Jesus! You are Insert your age:  years old! Wow!\n"
     ]
    }
   ],
   "source": [
    "name = \"Insert your name: \"\n",
    "funfact = \"Insert a fun fact about yourself:  \"\n",
    "myfact = \"My fun fact is that I can play piano.\"\n",
    "\n",
    "input1 = input(name)\n",
    "input2 = input(funfact)\n",
    "\n",
    "print(\"Hello \" + input1 + \"!\")\n",
    "print(myfact)\n",
    "print(\"Your fun fact is that: \" + funfact + \". Cool!\")"
   ]
  },
  {
   "cell_type": "code",
   "execution_count": null,
   "metadata": {},
   "outputs": [],
   "source": []
  }
 ],
 "metadata": {
  "kernelspec": {
   "display_name": "Python 3.7",
   "language": "python",
   "name": "python3"
  },
  "language_info": {
   "codemirror_mode": {
    "name": "ipython",
    "version": 3
   },
   "file_extension": ".py",
   "mimetype": "text/x-python",
   "name": "python",
   "nbconvert_exporter": "python",
   "pygments_lexer": "ipython3",
   "version": "3.7.0"
  }
 },
 "nbformat": 4,
 "nbformat_minor": 2
}
