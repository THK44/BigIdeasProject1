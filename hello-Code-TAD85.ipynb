{
 "cells": [
  {
   "cell_type": "code",
   "execution_count": null,
   "metadata": {},
   "outputs": [],
   "source": [
    "name = input(\"enter your name: \")\n",
    "funFact = input(\"Share a fun fact about yourself: \")\n",
    "\n",
    "myName = \"Thomas Downes\"\n",
    "myFact = \"I am a CS freshman at Pitt\"\n",
    "\n",
    "print(\"hello\", name, \"I am\", myName)\n",
    "print('my fun fact is \"' + myFact + '\"')\n",
    "print('thanks for sharing your fact \"' + funFact + '\"')"
   ]
  },
  {
   "cell_type": "code",
   "execution_count": null,
   "metadata": {},
   "outputs": [],
   "source": []
  }
 ],
 "metadata": {
  "kernelspec": {
   "display_name": "Python 3.7",
   "language": "python",
   "name": "python3"
  },
  "language_info": {
   "codemirror_mode": {
    "name": "ipython",
    "version": 3
   },
   "file_extension": ".py",
   "mimetype": "text/x-python",
   "name": "python",
   "nbconvert_exporter": "python",
   "pygments_lexer": "ipython3",
   "version": "3.7.0"
  }
 },
 "nbformat": 4,
 "nbformat_minor": 2
}
